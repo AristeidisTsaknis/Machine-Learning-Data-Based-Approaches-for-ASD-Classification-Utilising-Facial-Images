{
 "cells": [
  {
   "cell_type": "code",
   "execution_count": 21,
   "metadata": {},
   "outputs": [],
   "source": [
    "import os\n",
    "import cv2\n",
    "\n",
    "def detect_face(image):\n",
    "    cascade_path = cv2.data.haarcascades + 'haarcascade_frontalface_default.xml'\n",
    "    face_cascade = cv2.CascadeClassifier(cascade_path)\n",
    "\n",
    "    gray = cv2.cvtColor(image, cv2.COLOR_BGR2GRAY)\n",
    "    \n",
    "    faces = face_cascade.detectMultiScale(gray, scaleFactor=1.3, minNeighbors=5)\n",
    "    \n",
    "    if len(faces) > 0:\n",
    "        return faces[0]\n",
    "    else:\n",
    "        return None\n",
    "\n",
    "def convert_xywh(face):\n",
    "    xo, yo, w, h = face\n",
    "    xe, ye = xo + w, yo + h\n",
    "    return xo, yo, xe, ye\n",
    "\n",
    "def crop_face(image, xo, yo, xe, ye):\n",
    "    cropped_img = image[yo:ye, xo:xe]\n",
    "    return cropped_img\n",
    "\n",
    "def save_image(image, output_path):\n",
    "    cv2.imwrite(output_path, image)\n",
    "\n",
    "def face_cropping_algorithm(input_path, output_path):\n",
    "    for filename in os.listdir(input_path):\n",
    "        if filename.endswith(\".jpg\"):\n",
    "            img_path = os.path.join(input_path, filename)\n",
    "            img = cv2.imread(img_path)\n",
    "     \n",
    "            face = detect_face(img)\n",
    "            \n",
    "            if face is not None:\n",
    "                xo, yo, xe, ye = convert_xywh(face)\n",
    "                cropped_img = crop_face(img, xo, yo, xe, ye)\n",
    "                output_filename = os.path.join(output_path, filename)\n",
    "                save_image(cropped_img, output_filename)\n"
   ]
  },
  {
   "cell_type": "code",
   "execution_count": null,
   "metadata": {},
   "outputs": [],
   "source": [
    "\n",
    "input_path = \"C:\\\\Users\\\\input\"\n",
    "output_path = \"C:\\\\Users\\\\output\"\n",
    "face_cropping_algorithm(input_path, output_path)"
   ]
  }
 ],
 "metadata": {
  "kernelspec": {
   "display_name": "myprojectenv",
   "language": "python",
   "name": "python3"
  },
  "language_info": {
   "codemirror_mode": {
    "name": "ipython",
    "version": 3
   },
   "file_extension": ".py",
   "mimetype": "text/x-python",
   "name": "python",
   "nbconvert_exporter": "python",
   "pygments_lexer": "ipython3",
   "version": "3.10.13"
  }
 },
 "nbformat": 4,
 "nbformat_minor": 2
}
