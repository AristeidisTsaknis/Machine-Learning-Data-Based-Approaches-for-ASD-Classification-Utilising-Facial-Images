{
 "cells": [
  {
   "cell_type": "code",
   "execution_count": 3,
   "metadata": {},
   "outputs": [],
   "source": [
    "import cv2\n",
    "import os\n",
    "import numpy as np\n",
    "\n",
    "def read_image(img_path):\n",
    "    return cv2.imread(img_path)\n",
    "\n",
    "def copy_image_pixel(img, x, y):\n",
    "    return img[y, x]\n",
    "\n",
    "def save_image(image, out_path):\n",
    "    cv2.imwrite(out_path, image)\n",
    "\n",
    "def flip_image(image):\n",
    "    height, width, _ = image.shape\n",
    "    flipped_image = image.copy()\n",
    "\n",
    "    for x in range(width):\n",
    "        for y in range(height):\n",
    "                flipped_image[y, x] = copy_image_pixel(image, width - x - 1, y)\n",
    "\n",
    "    return flipped_image\n",
    "\n",
    "def image_flipping_algorithm(img_path, out_path, probability):\n",
    "    for img_file in os.listdir(img_path):\n",
    "        img_file_path = os.path.join(img_path, img_file)\n",
    "\n",
    "        img = read_image(img_file_path)\n",
    "        img_f = flip_image(img, probability)\n",
    "        out_file_path = os.path.join(out_path, img_file)\n",
    "        save_image(img_f, out_file_path)\n",
    "\n",
    "\n",
    "        \n",
    "input_path = \"C:\\\\Users\\\\input\"\n",
    "output_path = \"C:\\\\Users\\\\output\"\n",
    "\n",
    "for img_file in os.listdir(input_path):\n",
    "    img_file_path = os.path.join(input_path, img_file)\n",
    "    img = cv2.imread(img_file_path)\n",
    "    if img is not None:\n",
    "        flipped_img = flip_image(img)\n",
    "      \n",
    "        out_file_path = os.path.join(output_path, img_file)\n",
    "        save_image(flipped_img, out_file_path)\n",
    "    "
   ]
  }
 ],
 "metadata": {
  "colab": {
   "authorship_tag": "ABX9TyOVyyVIMDQdn6Ufb9rYvO7K",
   "provenance": []
  },
  "kernelspec": {
   "display_name": "Python 3 (ipykernel)",
   "language": "python",
   "name": "python3"
  },
  "language_info": {
   "codemirror_mode": {
    "name": "ipython",
    "version": 3
   },
   "file_extension": ".py",
   "mimetype": "text/x-python",
   "name": "python",
   "nbconvert_exporter": "python",
   "pygments_lexer": "ipython3",
   "version": "3.10.13"
  }
 },
 "nbformat": 4,
 "nbformat_minor": 1
}
