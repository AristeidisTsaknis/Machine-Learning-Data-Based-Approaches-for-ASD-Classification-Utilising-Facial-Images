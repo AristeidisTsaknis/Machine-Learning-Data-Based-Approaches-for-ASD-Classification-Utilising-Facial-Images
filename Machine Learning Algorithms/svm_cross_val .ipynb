{
  "cells": [
    {
      "cell_type": "code",
      "execution_count": 1,
      "metadata": {
        "id": "LmU-rOUou1Br"
      },
      "outputs": [],
      "source": [
        "import numpy as np\n",
        "import sklearn\n",
        "import os\n",
        "import cv2\n",
        "from sklearn.metrics import accuracy_score\n",
        "from sklearn.svm import SVC\n",
        "from sklearn.model_selection import cross_val_score, KFold"
      ]
    },
    {
      "cell_type": "code",
      "execution_count": null,
      "metadata": {
        "id": "6M-dkliKu5NO"
      },
      "outputs": [],
      "source": [
        "dataset_path = '/content/'\n",
        "\n",
        "\n",
        "subfolders = os.listdir(dataset_path)\n",
        "\n",
        "for subfolder in subfolders:\n",
        "    subfolder_path = os.path.join(dataset_path, subfolder)\n",
        "    image_files = os.listdir(subfolder_path)\n",
        "\n",
        "\n",
        "    total_images = len(image_files)\n",
        "    print(f\"Subfolder: {subfolder}, Total Images: {total_images}\")"
      ]
    },
    {
      "cell_type": "code",
      "execution_count": null,
      "metadata": {
        "id": "LV-Ol9BJu7_G"
      },
      "outputs": [],
      "source": [
        "data_folder = dataset_path\n",
        "image_size = (128, 128)\n",
        "data = []\n",
        "labels = []\n",
        "\n",
        "for subfolder in subfolders:\n",
        "    subfolder_path = os.path.join(data_folder, subfolder)\n",
        "    image_files = os.listdir(subfolder_path)\n",
        "\n",
        "    for image_file in image_files:\n",
        "        img_path = os.path.join(subfolder_path, image_file)\n",
        "        img = cv2.imread(img_path)\n",
        "        img = cv2.resize(img, image_size)\n",
        "        data.append(img)\n",
        "        labels.append(1 if subfolder == 'Autistic' else 0)\n",
        "\n",
        "\n",
        "data = np.array(data)\n",
        "labels = np.array(labels)"
      ]
    },
    {
      "cell_type": "code",
      "execution_count": null,
      "metadata": {
        "id": "74lRF1ggu_g-"
      },
      "outputs": [],
      "source": [
        "svm_model = SVC(C=1, gamma='scale', kernel='rbf', probability=True, random_state=12)\n",
        "\n",
        "\n",
        "cv = KFold(n_splits=5, shuffle=True, random_state=12)\n",
        "cross_val_scores = cross_val_score(svm_model, data.reshape(len(data), -1), labels, cv=cv, scoring='accuracy')\n",
        "\n",
        "print(\"Cross-Validation Scores:\", cross_val_scores)\n",
        "print(\"Mean Accuracy:\", np.mean(cross_val_scores))"
      ]
    }
  ],
  "metadata": {
    "colab": {
      "provenance": []
    },
    "kernelspec": {
      "display_name": "Python 3",
      "name": "python3"
    },
    "language_info": {
      "name": "python"
    }
  },
  "nbformat": 4,
  "nbformat_minor": 0
}
