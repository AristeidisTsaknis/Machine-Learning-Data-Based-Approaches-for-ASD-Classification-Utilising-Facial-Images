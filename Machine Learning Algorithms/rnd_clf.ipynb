{
 "cells": [
  {
   "cell_type": "code",
   "execution_count": 1,
   "metadata": {
    "executionInfo": {
     "elapsed": 2434,
     "status": "ok",
     "timestamp": 1699434650044,
     "user": {
      "displayName": "Aristidis Tsaknis",
      "userId": "06366845608526309627"
     },
     "user_tz": -120
    },
    "id": "M5A75ijA6qyw",
    "scrolled": true
   },
   "outputs": [],
   "source": [
    "from sklearn.ensemble import RandomForestClassifier\n",
    "import numpy as np\n",
    "import sklearn\n",
    "import os\n",
    "import matplotlib.pyplot as plt\n",
    "from sklearn.metrics import accuracy_score\n",
    "from sklearn.model_selection import train_test_split\n",
    "import cv2\n",
    "from sklearn.metrics import accuracy_score, precision_score, recall_score, f1_score, confusion_matrix\n",
    "\n"
   ]
  },
  {
   "cell_type": "code",
   "execution_count": null,
   "metadata": {
    "executionInfo": {
     "elapsed": 346,
     "status": "ok",
     "timestamp": 1699434699508,
     "user": {
      "displayName": "Aristidis Tsaknis",
      "userId": "06366845608526309627"
     },
     "user_tz": -120
    },
    "id": "_9mdEkkHF0mv"
   },
   "outputs": [],
   "source": [
    "dataset_path = \"C:\\\\Users\\\\arist\\\\Desktop\\\\article machine learning\\\\train\"\n",
    "\n",
    "\n",
    "subfolders = os.listdir(dataset_path)\n",
    "\n",
    "for subfolder in subfolders:\n",
    "    subfolder_path = os.path.join(dataset_path, subfolder)\n",
    "    image_files = os.listdir(subfolder_path)\n",
    "    \n",
    "    \n",
    "    total_images = len(image_files)\n",
    "    print(f\"Subfolder: {subfolder}, Total Images: {total_images}\")"
   ]
  },
  {
   "cell_type": "markdown",
   "metadata": {
    "id": "at3nYYK6GNMg"
   },
   "source": [
    "Start Random Forest"
   ]
  },
  {
   "cell_type": "code",
   "execution_count": null,
   "metadata": {
    "id": "ezIwvLyeAVeu"
   },
   "outputs": [],
   "source": [
    "\n",
    "data_folder = dataset_path\n",
    "image_size = (256, 256)\n",
    "data = []\n",
    "labels = []\n",
    "\n",
    "for subfolder in subfolders:\n",
    "    subfolder_path = os.path.join(data_folder, subfolder)\n",
    "    image_files = os.listdir(subfolder_path)\n",
    "    \n",
    "    for image_file in image_files:\n",
    "        img_path = os.path.join(subfolder_path, image_file)\n",
    "        img = cv2.imread(img_path)\n",
    "        img = cv2.resize(img, image_size)\n",
    "        data.append(img)\n",
    "        labels.append(1 if subfolder.startswith('Autistic') else 0)\n",
    "\n",
    "data = np.array(data)\n",
    "labels = np.array(labels)\n",
    "print(len(data))\n",
    "\n",
    "X_train, X_test, y_train, y_test = train_test_split(data, labels, test_size=0.2, random_state=11)\n"
   ]
  },
  {
   "cell_type": "code",
   "execution_count": null,
   "metadata": {
    "id": "R_11arnBM_Uq"
   },
   "outputs": [],
   "source": [
    "X_train_reshape = X_train.reshape(X_train.shape[0], -1)  \n",
    "\n",
    "rnd_clf = RandomForestClassifier(n_estimators=160, max_leaf_nodes=96, n_jobs=-1)\n",
    "rnd_clf.fit(X_train_reshape, y_train)  \n",
    "\n",
    "\n",
    "X_test_reshape = X_test.reshape(X_test.shape[0], -1)\n",
    "\n",
    "\n",
    "y_pred = rnd_clf.predict(X_test_reshape)\n",
    "\n",
    "accuracy = accuracy_score(y_test, y_pred)\n",
    "precision = precision_score(y_test, y_pred)\n",
    "recall = recall_score(y_test, y_pred)\n",
    "f1 = f1_score(y_test, y_pred)\n",
    "conf_matrix = confusion_matrix(y_test, y_pred)\n",
    "\n",
    "print(\"\\nEvaluation Metrics:\")\n",
    "print(f\"Accuracy: {accuracy:.4f}\")\n",
    "print(f\"Precision: {precision:.4f}\")\n",
    "print(f\"Recall: {recall:.4f}\")\n",
    "print(f\"F1 Score: {f1:.4f}\")\n",
    "\n",
    "print(\"\\nConfusion Matrix:\")\n",
    "print(conf_matrix)\n",
    "\n"
   ]
  }
 ],
 "metadata": {
  "colab": {
   "authorship_tag": "ABX9TyOVyyVIMDQdn6Ufb9rYvO7K",
   "provenance": []
  },
  "kernelspec": {
   "display_name": "Python 3 (ipykernel)",
   "language": "python",
   "name": "python3"
  },
  "language_info": {
   "codemirror_mode": {
    "name": "ipython",
    "version": 3
   },
   "file_extension": ".py",
   "mimetype": "text/x-python",
   "name": "python",
   "nbconvert_exporter": "python",
   "pygments_lexer": "ipython3",
   "version": "3.10.13"
  }
 },
 "nbformat": 4,
 "nbformat_minor": 1
}
