{
  "cells": [
    {
      "cell_type": "code",
      "execution_count": 7,
      "metadata": {
        "id": "cb789ef9"
      },
      "outputs": [],
      "source": [
        "from sklearn.ensemble import GradientBoostingClassifier\n",
        "import numpy as np\n",
        "import sklearn\n",
        "import os\n",
        "from sklearn.metrics import accuracy_score\n",
        "import cv2\n",
        "from sklearn.model_selection import cross_val_score\n",
        "from sklearn.metrics import accuracy_score"
      ],
      "id": "cb789ef9"
    },
    {
      "cell_type": "code",
      "execution_count": 8,
      "metadata": {
        "colab": {
          "base_uri": "https://localhost:8080/"
        },
        "id": "B8hBzwZkcpbJ",
        "outputId": "7d79258d-a646-4c5d-e28a-ae4e368b9dee"
      },
      "outputs": [
        {
          "output_type": "stream",
          "name": "stdout",
          "text": [
            "Drive already mounted at /content/drive; to attempt to forcibly remount, call drive.mount(\"/content/drive\", force_remount=True).\n"
          ]
        }
      ],
      "source": [
        "from google.colab import drive\n",
        "drive.mount('/content/drive')"
      ],
      "id": "B8hBzwZkcpbJ"
    },
    {
      "cell_type": "code",
      "execution_count": 9,
      "metadata": {
        "colab": {
          "base_uri": "https://localhost:8080/"
        },
        "id": "05ac4cd9",
        "outputId": "f66683e3-e822-4dc9-e7e5-e7bc5c8ac105"
      },
      "outputs": [
        {
          "output_type": "stream",
          "name": "stdout",
          "text": [
            "Subfolder: Non_Autistic, Total Images: 1327\n",
            "Subfolder: Autistic_flipped, Total Images: 1327\n",
            "Subfolder: Non_Autistic_flipped, Total Images: 1327\n",
            "Subfolder: Non_Autistic_noise, Total Images: 1327\n",
            "Subfolder: Autistic_noise, Total Images: 1327\n",
            "Subfolder: Autistic_rotate, Total Images: 1327\n",
            "Subfolder: Non_Autistic_rotate, Total Images: 1327\n",
            "Subfolder: Autistic, Total Images: 1327\n",
            "Subfolder: Autistic_crop, Total Images: 1317\n",
            "Subfolder: Non_Autistic_crop, Total Images: 1326\n"
          ]
        }
      ],
      "source": [
        "dataset_path = '/content/drive/MyDrive/autistic_dataset/train'\n",
        "\n",
        "subfolders = os.listdir(dataset_path)\n",
        "\n",
        "for subfolder in subfolders:\n",
        "    subfolder_path = os.path.join(dataset_path, subfolder)\n",
        "\n",
        "\n",
        "    image_files = os.listdir(subfolder_path)\n",
        "\n",
        "\n",
        "    total_images = len(image_files)\n",
        "    print(f\"Subfolder: {subfolder}, Total Images: {total_images}\")"
      ],
      "id": "05ac4cd9"
    },
    {
      "cell_type": "code",
      "execution_count": 10,
      "metadata": {
        "id": "bd9a99fb"
      },
      "outputs": [],
      "source": [
        "\n",
        "data_folder = dataset_path\n",
        "image_size = (128, 128)\n",
        "data = []\n",
        "labels = []\n",
        "\n",
        "for subfolder in subfolders:\n",
        "    subfolder_path = os.path.join(data_folder, subfolder)\n",
        "    image_files = os.listdir(subfolder_path)\n",
        "\n",
        "    for image_file in image_files:\n",
        "        img_path = os.path.join(subfolder_path, image_file)\n",
        "        img = cv2.imread(img_path)\n",
        "        img = cv2.resize(img, image_size)\n",
        "        data.append(img)\n",
        "        labels.append(1 if subfolder == 'Autistic' else 0)\n",
        "\n",
        "\n",
        "data = np.array(data)\n",
        "labels = np.array(labels)\n"
      ],
      "id": "bd9a99fb"
    },
    {
      "cell_type": "code",
      "execution_count": null,
      "metadata": {
        "colab": {
          "background_save": true
        },
        "id": "6623f103"
      },
      "outputs": [],
      "source": [
        "data_reshape = data.reshape(data.shape[0], -1)\n",
        "\n",
        "gb_clf = GradientBoostingClassifier(n_estimators=100, max_depth=4, min_samples_split=2, min_samples_leaf=1, learning_rate=0.1)\n",
        "\n",
        "cv_scores = cross_val_score(gb_clf, data_reshape, labels, cv=5)\n",
        "\n",
        "print(\"Cross-Validation Scores:\", cv_scores)\n",
        "print(\"Mean Accuracy:\", np.mean(cv_scores))\n",
        "\n"
      ],
      "id": "6623f103"
    }
  ],
  "metadata": {
    "colab": {
      "provenance": []
    },
    "kernelspec": {
      "display_name": "Python 3 (ipykernel)",
      "language": "python",
      "name": "python3"
    },
    "language_info": {
      "codemirror_mode": {
        "name": "ipython",
        "version": 3
      },
      "file_extension": ".py",
      "mimetype": "text/x-python",
      "name": "python",
      "nbconvert_exporter": "python",
      "pygments_lexer": "ipython3",
      "version": "3.10.13"
    }
  },
  "nbformat": 4,
  "nbformat_minor": 5
}