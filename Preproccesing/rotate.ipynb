{
 "cells": [
  {
   "cell_type": "code",
   "execution_count": null,
   "id": "da0c8688",
   "metadata": {},
   "outputs": [],
   "source": [
    "import cv2\n",
    "import os\n",
    "import random\n",
    "\n",
    "def rotate_image(image, angle):\n",
    "    h, w = image.shape[:2]\n",
    "    center = (w // 2, h // 2)\n",
    "    matrix = cv2.getRotationMatrix2D(center, angle, 1.0)\n",
    "    rotated_image = cv2.warpAffine(image, matrix, (w, h), flags=cv2.INTER_LINEAR)\n",
    "    return rotated_image\n",
    "\n",
    "\n",
    "\n",
    "\n",
    "\n",
    "img_path = \"C:\\\\Users\\\\input\" \n",
    "out_path = \"C:\\\\Users\\\\output\"\n",
    "\n",
    "\n",
    "for img_file in os.listdir(img_path):\n",
    "        if img_file.endswith(('.jpg', '.jpeg', '.png')):\n",
    "            img_file_path = os.path.join(img_path, img_file)\n",
    "\n",
    "            img = cv2.imread(img_file_path)\n",
    "\n",
    "            theta = random.uniform(-45, 45)\n",
    "            img_a = rotate_image(img, theta)\n",
    "            out_file_path = os.path.join(out_path, f\"rotated_{img_file}\")\n",
    "            cv2.imwrite(out_file_path, img_a)\n"
   ]
  }
 ],
 "metadata": {
  "kernelspec": {
   "display_name": "Python 3 (ipykernel)",
   "language": "python",
   "name": "python3"
  },
  "language_info": {
   "codemirror_mode": {
    "name": "ipython",
    "version": 3
   },
   "file_extension": ".py",
   "mimetype": "text/x-python",
   "name": "python",
   "nbconvert_exporter": "python",
   "pygments_lexer": "ipython3",
   "version": "3.10.13"
  }
 },
 "nbformat": 4,
 "nbformat_minor": 5
}
