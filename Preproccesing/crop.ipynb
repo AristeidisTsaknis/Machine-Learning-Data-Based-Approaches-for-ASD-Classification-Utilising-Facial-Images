{
  "nbformat": 4,
  "nbformat_minor": 0,
  "metadata": {
    "colab": {
      "provenance": []
    },
    "kernelspec": {
      "name": "python3",
      "display_name": "Python 3"
    },
    "language_info": {
      "name": "python"
    }
  },
  "cells": [
    {
      "cell_type": "code",
      "source": [
        "from google.colab import drive\n",
        "drive.mount('/content/drive')"
      ],
      "metadata": {
        "colab": {
          "base_uri": "https://localhost:8080/"
        },
        "id": "Cep7NaBR1wlv",
        "outputId": "85027885-ec79-449d-caa1-4f35d6640eeb"
      },
      "execution_count": null,
      "outputs": [
        {
          "output_type": "stream",
          "name": "stdout",
          "text": [
            "Mounted at /content/drive\n"
          ]
        }
      ]
    },
    {
      "cell_type": "code",
      "execution_count": null,
      "metadata": {
        "id": "XpK_tVkV1qeN"
      },
      "outputs": [],
      "source": [
        "import os\n",
        "import cv2\n",
        "\n",
        "def detect_face(image):\n",
        "    # Use OpenCV's pre-trained Haarcascades for face detection\n",
        "    cascade_path = cv2.data.haarcascades + 'haarcascade_frontalface_default.xml'\n",
        "    face_cascade = cv2.CascadeClassifier(cascade_path)\n",
        "\n",
        "    # Convert the image to grayscale for face detection\n",
        "    gray = cv2.cvtColor(image, cv2.COLOR_BGR2GRAY)\n",
        "\n",
        "    # Detect faces in the image\n",
        "    faces = face_cascade.detectMultiScale(gray, scaleFactor=1.3, minNeighbors=5)\n",
        "\n",
        "    if len(faces) > 0:\n",
        "        # Return the first detected face (assuming there's only one face in the image)\n",
        "        return faces[0]\n",
        "    else:\n",
        "        return None\n",
        "\n",
        "def convert_xywh(face):\n",
        "    # Convert OpenCV (x, y, w, h) to (xo, yo, xe, ye)\n",
        "    xo, yo, w, h = face\n",
        "    xe, ye = xo + w, yo + h\n",
        "    return xo, yo, xe, ye\n",
        "\n",
        "def crop_face(image, xo, yo, xe, ye):\n",
        "    # Crop the face from the image\n",
        "    cropped_img = image[yo:ye, xo:xe]\n",
        "    return cropped_img\n",
        "\n",
        "def save_image(image, output_path):\n",
        "    # Save the image to the specified output path\n",
        "    cv2.imwrite(output_path, image)\n",
        "\n",
        "def face_cropping_algorithm(input_path, output_path):\n",
        "    # Main face cropping algorithm\n",
        "    for filename in os.listdir(input_path):\n",
        "        if filename.endswith(\".jpg\"):\n",
        "            img_path = os.path.join(input_path, filename)\n",
        "            img = cv2.imread(img_path)\n",
        "\n",
        "            # Detect face in the image\n",
        "            face = detect_face(img)\n",
        "\n",
        "            if face is not None:\n",
        "                # Convert face information to coordinates\n",
        "                xo, yo, xe, ye = convert_xywh(face)\n",
        "\n",
        "                # Crop the face from the image\n",
        "                cropped_img = crop_face(img, xo, yo, xe, ye)\n",
        "\n",
        "                # Save the cropped image to the output path\n",
        "                output_filename = os.path.join(output_path, filename)\n",
        "                save_image(cropped_img, output_filename)\n",
        "            else:\n",
        "                # Save the original image if no face is detected\n",
        "                output_filename = os.path.join(output_path, filename)\n",
        "                save_image(img, output_filename)"
      ]
    },
    {
      "cell_type": "code",
      "source": [
        "input_path = \"/content\"\n",
        "output_path = \"/content/\"\n",
        "face_cropping_algorithm(input_path, output_path)"
      ],
      "metadata": {
        "id": "4CPSf4891tin"
      },
      "execution_count": null,
      "outputs": []
    }
  ]
}