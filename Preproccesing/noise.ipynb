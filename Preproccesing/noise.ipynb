{
 "cells": [
  {
   "cell_type": "code",
   "execution_count": null,
   "metadata": {},
   "outputs": [],
   "source": [
    "import cv2\n",
    "import os\n",
    "import numpy as np\n",
    "\n",
    "def read_image(img_path):\n",
    "    return cv2.imread(img_path)\n",
    "\n",
    "def save_image(image, out_path):\n",
    "    cv2.imwrite(out_path, image)\n",
    "\n",
    "def apply_salt_and_pepper_noise(image, probability):\n",
    "    height, width, _ = image.shape\n",
    "    noisy_image = image.copy()\n",
    "\n",
    "    threshold = 1 - probability\n",
    "\n",
    "    for x in range(width):\n",
    "        for y in range(height):\n",
    "            r = np.random.rand()\n",
    "            if r < threshold:\n",
    "                noisy_image[y, x] = 0  \n",
    "            elif r < probability:\n",
    "                noisy_image[y, x] = 255 \n",
    "\n",
    "    return noisy_image\n",
    "\n",
    "def salt_and_pepper_noise_algorithm(img_path, out_path, probability):\n",
    "    for img_file in os.listdir(img_path):\n",
    "        img_file_path = os.path.join(img_path, img_file)\n",
    "\n",
    "        img = read_image(img_file_path)\n",
    "        img_n = apply_salt_and_pepper_noise(img, probability)\n",
    "\n",
    "        out_file_path = os.path.join(out_path, img_file)\n",
    "        save_image(img_n, out_file_path)\n",
    "\n",
    "\n",
    "\n",
    "\n",
    "noise_probability = 0.02  \n",
    "\n",
    "    \n",
    "    \n",
    "input_path = \"C:\\\\Users\\\\input\"\n",
    "output_path = \"C:\\\\Users\\\\output\"\n",
    "\n",
    "for img_file in os.listdir(input_path):\n",
    "    img_file_path = os.path.join(input_path, img_file)\n",
    "    img = cv2.imread(img_file_path)\n",
    "    if img is not None:\n",
    "        salt_and_pepper_noise_algorithm(input_path, output_path, noise_probability)\n",
    "    \n",
    "    "
   ]
  },
  {
   "cell_type": "code",
   "execution_count": null,
   "metadata": {},
   "outputs": [],
   "source": []
  }
 ],
 "metadata": {
  "colab": {
   "authorship_tag": "ABX9TyOVyyVIMDQdn6Ufb9rYvO7K",
   "provenance": []
  },
  "kernelspec": {
   "display_name": "Python 3 (ipykernel)",
   "language": "python",
   "name": "python3"
  },
  "language_info": {
   "codemirror_mode": {
    "name": "ipython",
    "version": 3
   },
   "file_extension": ".py",
   "mimetype": "text/x-python",
   "name": "python",
   "nbconvert_exporter": "python",
   "pygments_lexer": "ipython3",
   "version": "3.11.5"
  }
 },
 "nbformat": 4,
 "nbformat_minor": 1
}
