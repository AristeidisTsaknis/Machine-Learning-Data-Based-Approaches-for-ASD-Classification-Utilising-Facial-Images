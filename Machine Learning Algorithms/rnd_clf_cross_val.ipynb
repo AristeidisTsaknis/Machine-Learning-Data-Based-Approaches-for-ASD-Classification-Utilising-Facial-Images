{
  "cells": [
    {
      "cell_type": "code",
      "execution_count": 1,
      "metadata": {
        "id": "M5A75ijA6qyw",
        "scrolled": true
      },
      "outputs": [],
      "source": [
        "from sklearn.ensemble import RandomForestClassifier\n",
        "import numpy as np\n",
        "import sklearn\n",
        "import os\n",
        "from sklearn.metrics import accuracy_score\n",
        "import cv2\n",
        "from sklearn.model_selection import cross_val_score\n"
      ]
    },
    {
      "cell_type": "code",
      "source": [
        "from google.colab import drive\n",
        "drive.mount('/content/drive')"
      ],
      "metadata": {
        "id": "w3gYqnRwJp1V"
      },
      "execution_count": null,
      "outputs": []
    },
    {
      "cell_type": "code",
      "execution_count": null,
      "metadata": {
        "id": "_9mdEkkHF0mv"
      },
      "outputs": [],
      "source": [
        "dataset_path = \"/content/drive/MyDrive/autistic_dataset/train\"\n",
        "\n",
        "\n",
        "subfolders = os.listdir(dataset_path)\n",
        "\n",
        "for subfolder in subfolders:\n",
        "    subfolder_path = os.path.join(dataset_path, subfolder)\n",
        "\n",
        "\n",
        "    image_files = os.listdir(subfolder_path)\n",
        "\n",
        "\n",
        "    total_images = len(image_files)\n",
        "    print(f\"Subfolder: {subfolder}, Total Images: {total_images}\")"
      ]
    },
    {
      "cell_type": "markdown",
      "metadata": {
        "id": "at3nYYK6GNMg"
      },
      "source": [
        "Start Random Forest"
      ]
    },
    {
      "cell_type": "code",
      "execution_count": null,
      "metadata": {
        "id": "ezIwvLyeAVeu"
      },
      "outputs": [],
      "source": [
        "\n",
        "data_folder = dataset_path\n",
        "image_size = (128, 128)\n",
        "data = []\n",
        "labels = []\n",
        "\n",
        "for subfolder in subfolders:\n",
        "    subfolder_path = os.path.join(data_folder, subfolder)\n",
        "    image_files = os.listdir(subfolder_path)\n",
        "\n",
        "    for image_file in image_files:\n",
        "        img_path = os.path.join(subfolder_path, image_file)\n",
        "        img = cv2.imread(img_path)\n",
        "        img = cv2.resize(img, image_size)\n",
        "        data.append(img)\n",
        "        labels.append(1 if subfolder.startswith('Autistic') else 0)\n",
        "\n",
        "data = np.array(data)\n",
        "labels = np.array(labels)\n",
        "\n",
        "print(len(data))"
      ]
    },
    {
      "cell_type": "code",
      "execution_count": null,
      "metadata": {
        "id": "R_11arnBM_Uq"
      },
      "outputs": [],
      "source": [
        "\n",
        "data_reshape = data.reshape(data.shape[0], -1)\n",
        "rnd_clf = RandomForestClassifier(n_estimators=160, max_leaf_nodes=96, n_jobs=-1)\n",
        "\n",
        "\n",
        "cv_scores = cross_val_score(rnd_clf, data_reshape, labels, cv=5)\n",
        "\n",
        "print(\"Cross-Validation Scores:\", cv_scores)\n",
        "print(\"Mean Accuracy:\", np.mean(cv_scores))\n",
        "\n",
        "\n"
      ]
    },
    {
      "cell_type": "code",
      "execution_count": null,
      "metadata": {
        "id": "3iuD-wKxJkWK"
      },
      "outputs": [],
      "source": []
    }
  ],
  "metadata": {
    "colab": {
      "provenance": []
    },
    "kernelspec": {
      "display_name": "Python 3 (ipykernel)",
      "language": "python",
      "name": "python3"
    },
    "language_info": {
      "codemirror_mode": {
        "name": "ipython",
        "version": 3
      },
      "file_extension": ".py",
      "mimetype": "text/x-python",
      "name": "python",
      "nbconvert_exporter": "python",
      "pygments_lexer": "ipython3",
      "version": "3.10.13"
    }
  },
  "nbformat": 4,
  "nbformat_minor": 0
}