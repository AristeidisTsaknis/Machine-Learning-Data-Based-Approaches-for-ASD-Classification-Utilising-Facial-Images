{
  "cells": [
    {
      "cell_type": "code",
      "execution_count": null,
      "metadata": {
        "id": "LmU-rOUou1Br"
      },
      "outputs": [],
      "source": [
        "from sklearn.ensemble import GradientBoostingClassifier\n",
        "import numpy as np\n",
        "import matplotlib.pyplot as plt\n",
        "import pandas as pd\n",
        "import sklearn\n",
        "import os\n",
        "from PIL import Image\n",
        "import matplotlib.pyplot as plt\n",
        "from sklearn.metrics import accuracy_score\n",
        "from sklearn.model_selection import train_test_split\n",
        "import cv2\n",
        "from sklearn.decomposition import PCA\n",
        "from sklearn.metrics import accuracy_score, precision_score, recall_score, f1_score, confusion_matrix\n",
        "from sklearn.metrics import roc_curve, auc\n",
        "from sklearn.svm import SVC\n",
        "from sklearn.model_selection import cross_val_score, KFold"
      ]
    },
    {
      "cell_type": "code",
      "execution_count": null,
      "metadata": {
        "colab": {
          "base_uri": "https://localhost:8080/"
        },
        "id": "q5isXmIUu16-",
        "outputId": "e42cab24-cb56-4098-9813-4473d7b514ca"
      },
      "outputs": [
        {
          "name": "stdout",
          "output_type": "stream",
          "text": [
            "Mounted at /content/drive\n"
          ]
        }
      ],
      "source": [
        "#from google.colab import drive\n",
        "#drive.mount('/content/drive')"
      ]
    },
    {
      "cell_type": "code",
      "execution_count": null,
      "metadata": {
        "colab": {
          "base_uri": "https://localhost:8080/"
        },
        "id": "6M-dkliKu5NO",
        "outputId": "54102cdc-08a0-4ccc-8711-6a774725aa17"
      },
      "outputs": [
        {
          "name": "stdout",
          "output_type": "stream",
          "text": [
            "Subfolder: Non_Autistic, Total Images: 1327\n",
            "Subfolder: Autistic_flipped, Total Images: 1327\n",
            "Subfolder: Non_Autistic_flipped, Total Images: 1327\n",
            "Subfolder: Non_Autistic_noise, Total Images: 1327\n",
            "Subfolder: Autistic_noise, Total Images: 1327\n",
            "Subfolder: Autistic_rotate, Total Images: 1327\n",
            "Subfolder: Non_Autistic_rotate, Total Images: 1327\n",
            "Subfolder: Autistic, Total Images: 1327\n"
          ]
        }
      ],
      "source": [
        "dataset_path = '/content/drive/MyDrive/autistic_dataset/train'\n",
        "\n",
        "\n",
        "subfolders = os.listdir(dataset_path)\n",
        "\n",
        "for subfolder in subfolders:\n",
        "    subfolder_path = os.path.join(dataset_path, subfolder)\n",
        "    image_files = os.listdir(subfolder_path)\n",
        "\n",
        "\n",
        "    total_images = len(image_files)\n",
        "    print(f\"Subfolder: {subfolder}, Total Images: {total_images}\")"
      ]
    },
    {
      "cell_type": "code",
      "execution_count": null,
      "metadata": {
        "id": "LV-Ol9BJu7_G"
      },
      "outputs": [],
      "source": [
        "data_folder = dataset_path\n",
        "image_size = (128, 128)\n",
        "data = []\n",
        "labels = []\n",
        "\n",
        "for subfolder in subfolders:\n",
        "    subfolder_path = os.path.join(data_folder, subfolder)\n",
        "    image_files = os.listdir(subfolder_path)\n",
        "\n",
        "    for image_file in image_files:\n",
        "        img_path = os.path.join(subfolder_path, image_file)\n",
        "        img = cv2.imread(img_path)\n",
        "        img = cv2.resize(img, image_size)\n",
        "        data.append(img)\n",
        "        labels.append(1 if subfolder == 'Autistic' else 0)\n",
        "\n",
        "\n",
        "data = np.array(data)\n",
        "labels = np.array(labels)"
      ]
    },
    {
      "cell_type": "code",
      "execution_count": null,
      "metadata": {
        "colab": {
          "base_uri": "https://localhost:8080/"
        },
        "id": "74lRF1ggu_g-",
        "outputId": "02d02d5e-f2fb-41b2-e420-65d021a0e994"
      },
      "outputs": [
        {
          "name": "stdout",
          "output_type": "stream",
          "text": [
            "Cross-Validation Scores: [0.86737001 0.88319518 0.87038433 0.87905049]\n",
            "Mean Accuracy: 0.875\n"
          ]
        }
      ],
      "source": [
        "svm_model = SVC(C=1, gamma='scale',kernel='rbf',probability=True,random_state=12)\n",
        "\n",
        "\n",
        "cv = KFold(n_splits=5, shuffle=True,random_state=12)\n",
        "cross_val_scores = cross_val_score(svm_model, data.reshape(len(data), -1), labels, cv=cv, scoring='accuracy')\n",
        "\n",
        "print(\"Cross-Validation Scores:\",cross_val_scores)\n",
        "print(\"Mean Accuracy:\",np.mean(cross_val_scores))"
      ]
    },
    {
      "cell_type": "code",
      "execution_count": null,
      "metadata": {
        "id": "wk-htNxGvA5-"
      },
      "outputs": [],
      "source": []
    }
  ],
  "metadata": {
    "colab": {
      "provenance": []
    },
    "kernelspec": {
      "display_name": "Python 3",
      "name": "python3"
    },
    "language_info": {
      "name": "python"
    }
  },
  "nbformat": 4,
  "nbformat_minor": 0
}
