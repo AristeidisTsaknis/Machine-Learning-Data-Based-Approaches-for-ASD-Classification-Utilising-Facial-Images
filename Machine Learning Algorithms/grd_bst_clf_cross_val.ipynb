{
  "cells": [
    {
      "cell_type": "code",
      "execution_count": 7,
      "id": "cb789ef9",
      "metadata": {
        "id": "cb789ef9"
      },
      "outputs": [],
      "source": [
        "from sklearn.ensemble import GradientBoostingClassifier\n",
        "import numpy as np\n",
        "import sklearn\n",
        "import os\n",
        "import cv2\n",
        "from sklearn.model_selection import cross_val_score\n",
        "from sklearn.metrics import accuracy_score"
      ]
    },
    {
      "cell_type": "code",
      "execution_count": null,
      "id": "05ac4cd9",
      "metadata": {
        "colab": {
          "base_uri": "https://localhost:8080/"
        },
        "id": "05ac4cd9",
        "outputId": "f66683e3-e822-4dc9-e7e5-e7bc5c8ac105"
      },
      "outputs": [],
      "source": [
        "dataset_path = '/content'\n",
        "\n",
        "subfolders = os.listdir(dataset_path)\n",
        "\n",
        "for subfolder in subfolders:\n",
        "    subfolder_path = os.path.join(dataset_path, subfolder)\n",
        "\n",
        "\n",
        "    image_files = os.listdir(subfolder_path)\n",
        "\n",
        "\n",
        "    total_images = len(image_files)\n",
        "    print(f\"Subfolder: {subfolder}, Total Images: {total_images}\")"
      ]
    },
    {
      "cell_type": "code",
      "execution_count": 10,
      "id": "bd9a99fb",
      "metadata": {
        "id": "bd9a99fb"
      },
      "outputs": [],
      "source": [
        "\n",
        "data_folder = dataset_path\n",
        "image_size = (128, 128)\n",
        "data = []\n",
        "labels = []\n",
        "\n",
        "for subfolder in subfolders:\n",
        "    subfolder_path = os.path.join(data_folder, subfolder)\n",
        "    image_files = os.listdir(subfolder_path)\n",
        "\n",
        "    for image_file in image_files:\n",
        "        img_path = os.path.join(subfolder_path, image_file)\n",
        "        img = cv2.imread(img_path)\n",
        "        img = cv2.resize(img, image_size)\n",
        "        data.append(img)\n",
        "        labels.append(1 if subfolder == 'Autistic' else 0)\n",
        "\n",
        "\n",
        "data = np.array(data)\n",
        "labels = np.array(labels)\n"
      ]
    },
    {
      "cell_type": "code",
      "execution_count": null,
      "id": "6623f103",
      "metadata": {
        "colab": {
          "background_save": true
        },
        "id": "6623f103"
      },
      "outputs": [],
      "source": [
        "data_reshape = data.reshape(data.shape[0], -1)\n",
        "\n",
        "gb_clf = GradientBoostingClassifier(n_estimators=86, max_depth=2, min_samples_split=2, min_samples_leaf=1, learning_rate=0.6)\n",
        "\n",
        "cv_scores = cross_val_score(gb_clf, data_reshape, labels, cv=5)\n",
        "\n",
        "print(\"Cross-Validation Scores:\", cv_scores)\n",
        "print(\"Mean Accuracy:\", np.mean(cv_scores))\n",
        "\n"
      ]
    }
  ],
  "metadata": {
    "colab": {
      "provenance": []
    },
    "kernelspec": {
      "display_name": "Python 3 (ipykernel)",
      "language": "python",
      "name": "python3"
    },
    "language_info": {
      "codemirror_mode": {
        "name": "ipython",
        "version": 3
      },
      "file_extension": ".py",
      "mimetype": "text/x-python",
      "name": "python",
      "nbconvert_exporter": "python",
      "pygments_lexer": "ipython3",
      "version": "3.10.13"
    }
  },
  "nbformat": 4,
  "nbformat_minor": 5
}
