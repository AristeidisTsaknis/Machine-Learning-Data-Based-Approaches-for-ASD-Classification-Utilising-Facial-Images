{
 "cells": [
  {
   "cell_type": "code",
   "execution_count": 1,
   "id": "cb789ef9",
   "metadata": {},
   "outputs": [],
   "source": [
    "from sklearn.ensemble import GradientBoostingClassifier\n",
    "import numpy as np\n",
    "import matplotlib.pyplot as plt\n",
    "import pandas as pd\n",
    "import sklearn\n",
    "import os\n",
    "from PIL import Image\n",
    "import matplotlib.pyplot as plt\n",
    "from sklearn.metrics import accuracy_score\n",
    "from sklearn.model_selection import train_test_split\n",
    "import cv2\n",
    "from sklearn.decomposition import PCA\n",
    "from sklearn.model_selection import cross_val_score\n",
    "from sklearn.metrics import accuracy_score, precision_score, recall_score, f1_score, confusion_matrix\n",
    "from sklearn.metrics import roc_curve, auc\n",
    "\n"
   ]
  },
  {
   "cell_type": "code",
   "execution_count": 2,
   "id": "05ac4cd9",
   "metadata": {},
   "outputs": [
    {
     "name": "stdout",
     "output_type": "stream",
     "text": [
      "Subfolder: Autistic, Total Images: 1327\n",
      "Subfolder: Non_Autistic, Total Images: 1327\n"
     ]
    }
   ],
   "source": [
    "dataset_path = \"C:\\\\Users\\\\arist\\\\Desktop\\\\article machine learning\\\\Kaggle-Autism-master\\\\train\"\n",
    "\n",
    "\n",
    "subfolders = os.listdir(dataset_path)\n",
    "\n",
    "for subfolder in subfolders:\n",
    "    subfolder_path = os.path.join(dataset_path, subfolder)\n",
    "\n",
    "\n",
    "    image_files = os.listdir(subfolder_path)\n",
    "    \n",
    "    \n",
    "    total_images = len(image_files)\n",
    "    print(f\"Subfolder: {subfolder}, Total Images: {total_images}\")"
   ]
  },
  {
   "cell_type": "code",
   "execution_count": 3,
   "id": "bd9a99fb",
   "metadata": {},
   "outputs": [],
   "source": [
    "#sample_size = 7962\n",
    "data_folder = dataset_path\n",
    "image_size = (128, 128)\n",
    "data = []\n",
    "labels = []\n",
    "\n",
    "for subfolder in subfolders:\n",
    "    subfolder_path = os.path.join(data_folder, subfolder)\n",
    "    image_files = os.listdir(subfolder_path)\n",
    "    \n",
    "    for image_file in image_files:\n",
    "        img_path = os.path.join(subfolder_path, image_file)\n",
    "        img = cv2.imread(img_path)\n",
    "        img = cv2.resize(img, image_size)\n",
    "        data.append(img)\n",
    "        labels.append(1 if subfolder == 'Autistic' else 0)\n",
    "     \n",
    "\n",
    "data = np.array(data)\n",
    "labels = np.array(labels)\n",
    "\n",
    "X_train, X_test, y_train, y_test = train_test_split(data, labels, test_size=0.2, random_state=11)\n"
   ]
  },
  {
   "cell_type": "code",
   "execution_count": null,
   "id": "6623f103",
   "metadata": {},
   "outputs": [],
   "source": [
    "\n",
    "X_train_reshape = X_train.reshape(X_train.shape[0], -1)\n",
    "X_test_reshape = X_test.reshape(X_test.shape[0], -1)\n",
    "\n",
    "gb_clf = GradientBoostingClassifier( n_estimators=100,max_depth=4,min_samples_split=2,min_samples_leaf=1,learning_rate=0.1)\n",
    "\n",
    "gb_clf.fit(X_train_reshape, y_train)\n",
    "\n",
    "\n",
    "y_pred = gb_clf.predict(X_test_reshape)\n",
    "\n",
    "accuracy = accuracy_score(y_test, y_pred)\n",
    "precision = precision_score(y_test, y_pred)\n",
    "recall = recall_score(y_test, y_pred)\n",
    "f1 = f1_score(y_test, y_pred)\n",
    "conf_matrix = confusion_matrix(y_test, y_pred)\n",
    "\n",
    "\n",
    "print(\"\\nEvaluation Metrics:\")\n",
    "print(f\"Accuracy: {accuracy:.4f}\")\n",
    "print(f\"Precision: {precision:.4f}\")\n",
    "print(f\"Recall: {recall:.4f}\")\n",
    "print(f\"F1 Score: {f1:.4f}\")\n",
    "\n",
    "print(\"\\nConfusion Matrix:\")\n",
    "print(conf_matrix)\n",
    "\n"
   ]
  }
 ],
 "metadata": {
  "kernelspec": {
   "display_name": "Python 3 (ipykernel)",
   "language": "python",
   "name": "python3"
  },
  "language_info": {
   "codemirror_mode": {
    "name": "ipython",
    "version": 3
   },
   "file_extension": ".py",
   "mimetype": "text/x-python",
   "name": "python",
   "nbconvert_exporter": "python",
   "pygments_lexer": "ipython3",
   "version": "3.10.13"
  }
 },
 "nbformat": 4,
 "nbformat_minor": 5
}
